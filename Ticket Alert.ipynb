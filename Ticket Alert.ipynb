{
 "cells": [
  {
   "cell_type": "code",
   "execution_count": null,
   "metadata": {},
   "outputs": [],
   "source": [
    "from json import loads\n",
    "from requests import get\n",
    "from time import sleep\n",
    "from winotify import Notification"
   ]
  },
  {
   "cell_type": "code",
   "execution_count": null,
   "metadata": {},
   "outputs": [],
   "source": [
    "ORIGINS = ['11320000'] # Origin City Code\n",
    "DESTINATIONS = ['54450000', '54470000', '54310000', '54340000'] # Destination City Code\n",
    "DATES = ['1401-12-28', '1401-12-29']\n",
    "TRIES = 1000\n",
    "SLEEP = 60 # in seconds"
   ]
  },
  {
   "cell_type": "code",
   "execution_count": null,
   "metadata": {},
   "outputs": [],
   "source": [
    "t = 0\n",
    "fullData = {}\n",
    "notificationMessages = []\n",
    "\n",
    "while t < TRIES:\n",
    "    print(f'try number {t + 1}')\n",
    "    for origin in ORIGINS:\n",
    "        for destination in DESTINATIONS:\n",
    "            for date in DATES:\n",
    "                url = f'https://safar724.com/bus/getservices?origin={origin}&destination={destination}&date={date}'\n",
    "                fullData[date] = loads(get(url).content)\n",
    "\n",
    "                originEnglishName = fullData[date][\"OriginEnglishName\"]\n",
    "                destinationEnglishName = fullData[date][\"DestinationEnglishName\"]\n",
    "\n",
    "                for serviceData in fullData[date]['Items']:\n",
    "                    availableSeatCount = serviceData['AvailableSeatCount']\n",
    "                    serviceId = serviceData[\"ID\"]\n",
    "\n",
    "                    if availableSeatCount != 0:\n",
    "                        notificationMessage = f'{originEnglishName} to {destinationEnglishName} in {date} with {availableSeatCount} available seats'\n",
    "                        notificationUrl = f'https://safar724.com/bus/{originEnglishName}-{destinationEnglishName}?date={date}/#/service:{serviceId}-{destination}'\n",
    "\n",
    "                        if notificationMessage not in notificationMessages:\n",
    "                            notificationMessages.append(notificationMessage)\n",
    "                            toast = Notification(app_id = 'Ticket Alert', title = 'New ticket', msg = notificationMessage)\n",
    "                            toast.add_actions(label = 'Go to ticket', launch = notificationUrl)\n",
    "                            toast.show()\n",
    "                            print(notificationMessage, notificationUrl)\n",
    "                        \n",
    "                        sleep(1)\n",
    "    t += 1\n",
    "    sleep(SLEEP)"
   ]
  }
 ],
 "metadata": {
  "kernelspec": {
   "display_name": "Python 3",
   "language": "python",
   "name": "python3"
  },
  "language_info": {
   "codemirror_mode": {
    "name": "ipython",
    "version": 3
   },
   "file_extension": ".py",
   "mimetype": "text/x-python",
   "name": "python",
   "nbconvert_exporter": "python",
   "pygments_lexer": "ipython3",
   "version": "3.10.7"
  },
  "orig_nbformat": 4
 },
 "nbformat": 4,
 "nbformat_minor": 2
}
