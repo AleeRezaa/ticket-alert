{
 "cells": [
  {
   "cell_type": "code",
   "execution_count": 1,
   "metadata": {},
   "outputs": [],
   "source": [
    "from json import loads\n",
    "from requests import get\n",
    "from time import sleep\n",
    "from winotify import Notification"
   ]
  },
  {
   "cell_type": "code",
   "execution_count": 2,
   "metadata": {},
   "outputs": [],
   "source": [
    "ORIGINS = ['11320000'] # Tehran Code\n",
    "DESTINATIONS = ['54450000'] # Lahijan Code\n",
    "DATES = ['1401/12/24', '1401/12/25', '1401/12/26', '1401/12/27', '1401/12/28']\n",
    "TRIES = 1\n",
    "SLEEP = 10 # in seconds"
   ]
  },
  {
   "cell_type": "code",
   "execution_count": 3,
   "metadata": {},
   "outputs": [
    {
     "name": "stdout",
     "output_type": "stream",
     "text": [
      "\n",
      "from: tehran, to: lahijan, date: 1401/12/24, services: 1\n",
      "\n",
      "from: tehran, to: lahijan, date: 1401/12/25, services: 4\n",
      "\n",
      "from: tehran, to: lahijan, date: 1401/12/26, services: 4\n",
      "\n",
      "from: tehran, to: lahijan, date: 1401/12/27, services: 4\n",
      "\n",
      "from: tehran, to: lahijan, date: 1401/12/28, services: 4\n"
     ]
    }
   ],
   "source": [
    "fullData = {}\n",
    "t = 0\n",
    "\n",
    "while t < TRIES:\n",
    "    for origin in ORIGINS:\n",
    "        for destination in DESTINATIONS:\n",
    "            for date in DATES:\n",
    "                url = f'https://safar724.com/bus/getservices?origin={origin}&destination={destination}&date={date}'\n",
    "                fullData[date] = loads(get(url).content)\n",
    "\n",
    "                originEnglishName = fullData[date][\"OriginEnglishName\"]\n",
    "                destinationEnglishName = fullData[date][\"DestinationEnglishName\"]\n",
    "                print(f'\\nfrom: {originEnglishName}, to: {destinationEnglishName}, date: {date}, services: {len(fullData[date][\"Items\"])}')\n",
    "\n",
    "                for serviceData in fullData[date]['Items']:\n",
    "                    availableSeatCount = serviceData['AvailableSeatCount']\n",
    "                    serviceId = serviceData[\"ID\"]\n",
    "\n",
    "                    if availableSeatCount != 0:\n",
    "                        notificationMessage = f'In {date}, AvailableSeatCount: {availableSeatCount} Service ID: {serviceId}'\n",
    "                        notificationUrl = f'https://safar724.com/bus/{originEnglishName}-{destinationEnglishName}?date={date}'\n",
    "\n",
    "                        toast = Notification(app_id = 'Ticket Alert', title = 'New ticket', msg = notificationMessage)\n",
    "                        toast.add_actions(label = 'Go to ticket', launch = notificationUrl)\n",
    "                        toast.show()\n",
    "                        print(notificationMessage, notificationUrl)\n",
    "                        \n",
    "                        sleep(1)\n",
    "    t += 1\n",
    "    sleep(SLEEP)"
   ]
  }
 ],
 "metadata": {
  "kernelspec": {
   "display_name": "Python 3",
   "language": "python",
   "name": "python3"
  },
  "language_info": {
   "codemirror_mode": {
    "name": "ipython",
    "version": 3
   },
   "file_extension": ".py",
   "mimetype": "text/x-python",
   "name": "python",
   "nbconvert_exporter": "python",
   "pygments_lexer": "ipython3",
   "version": "3.10.7"
  },
  "orig_nbformat": 4
 },
 "nbformat": 4,
 "nbformat_minor": 2
}
